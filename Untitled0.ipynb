{
  "nbformat": 4,
  "nbformat_minor": 0,
  "metadata": {
    "colab": {
      "provenance": [],
      "authorship_tag": "ABX9TyNu+9vWubAhfMOsExRn86s5",
      "include_colab_link": true
    },
    "kernelspec": {
      "name": "python3",
      "display_name": "Python 3"
    },
    "language_info": {
      "name": "python"
    }
  },
  "cells": [
    {
      "cell_type": "markdown",
      "metadata": {
        "id": "view-in-github",
        "colab_type": "text"
      },
      "source": [
        "<a href=\"https://colab.research.google.com/github/LuqLu/ml-proj/blob/main/Untitled0.ipynb\" target=\"_parent\"><img src=\"https://colab.research.google.com/assets/colab-badge.svg\" alt=\"Open In Colab\"/></a>"
      ]
    },
    {
      "cell_type": "markdown",
      "source": [
        "<img src=\"https://github.com/LuqLu/ml-proj/blob/main/car_counting.gif\">"
      ],
      "metadata": {
        "id": "RWj6oQkJAV0m"
      }
    },
    {
      "cell_type": "code",
      "source": [],
      "metadata": {
        "id": "0WuC3awPAal7"
      },
      "execution_count": null,
      "outputs": []
    },
    {
      "cell_type": "markdown",
      "source": [
        "![picture](https://github.com/LuqLu/ml-proj/blob/main/car_counting.gif)"
      ],
      "metadata": {
        "id": "z-aBsGSeFkIh"
      }
    },
    {
      "cell_type": "code",
      "source": [],
      "metadata": {
        "id": "OJjHN_UdFku6"
      },
      "execution_count": null,
      "outputs": []
    },
    {
      "cell_type": "markdown",
      "source": [
        "<table>\n",
        "    <tr>\n",
        "    <td><img src=\"https://github.com/guoyww/AnimateDiff/raw/main/__assets__/animations/model_02/03.gif\"></td>\n",
        "    <td><img src=\"https://github.com/LuqLu/ml-proj/raw/main/car_counting.gif\"></td>\n",
        "    </tr>\n",
        "</table>"
      ],
      "metadata": {
        "id": "aqkpYY2sIrNl"
      }
    }
  ]
}